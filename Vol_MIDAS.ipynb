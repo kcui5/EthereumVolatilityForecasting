{
  "nbformat": 4,
  "nbformat_minor": 0,
  "metadata": {
    "colab": {
      "name": "Vol MIDAS.ipynb",
      "provenance": []
    },
    "kernelspec": {
      "name": "python3",
      "display_name": "Python 3"
    },
    "language_info": {
      "name": "python"
    }
  },
  "cells": [
    {
      "cell_type": "code",
      "execution_count": 2,
      "metadata": {
        "id": "0aq_5dJcLBdu"
      },
      "outputs": [],
      "source": [
        "import pickle\n",
        "import math\n",
        "import numpy as np\n",
        "import pandas as pd\n",
        "import matplotlib.pyplot as plt\n",
        "from sklearn.preprocessing import MinMaxScaler\n",
        "from statsmodels.tsa.stattools import adfuller"
      ]
    },
    {
      "cell_type": "code",
      "source": [
        "#Import CoinAPI price data\n",
        "priceFile = open(\"PRICES.txt\", \"rb\")\n",
        "pricesResponse = pickle.load(priceFile)\n",
        "prices = pd.DataFrame.from_dict(pricesResponse.json())"
      ],
      "metadata": {
        "id": "Z-wJX-42LEtM"
      },
      "execution_count": 3,
      "outputs": []
    },
    {
      "cell_type": "code",
      "source": [
        "#Import Binance API price data\n",
        "priceFile = open(\"PRICES_-1.txt\", \"rb\")\n",
        "pricesResponse = pickle.load(priceFile)\n",
        "prices = pd.DataFrame.from_dict(pricesResponse.json())"
      ],
      "metadata": {
        "id": "X_1uXnVOLJHa"
      },
      "execution_count": null,
      "outputs": []
    },
    {
      "cell_type": "code",
      "source": [
        "prices"
      ],
      "metadata": {
        "colab": {
          "base_uri": "https://localhost:8080/",
          "height": 641
        },
        "id": "0chZ7a1SLU47",
        "outputId": "49108a71-79b6-4afe-ec6e-30e66a0841f3"
      },
      "execution_count": 4,
      "outputs": [
        {
          "output_type": "execute_result",
          "data": {
            "text/plain": [
              "                  time_period_start               time_period_end  \\\n",
              "0      2022-04-01T00:00:00.0000000Z  2022-04-01T00:05:00.0000000Z   \n",
              "1      2022-04-01T00:05:00.0000000Z  2022-04-01T00:10:00.0000000Z   \n",
              "2      2022-04-01T00:10:00.0000000Z  2022-04-01T00:15:00.0000000Z   \n",
              "3      2022-04-01T00:15:00.0000000Z  2022-04-01T00:20:00.0000000Z   \n",
              "4      2022-04-01T00:20:00.0000000Z  2022-04-01T00:25:00.0000000Z   \n",
              "...                             ...                           ...   \n",
              "17275  2022-05-30T23:35:00.0000000Z  2022-05-30T23:40:00.0000000Z   \n",
              "17276  2022-05-30T23:40:00.0000000Z  2022-05-30T23:45:00.0000000Z   \n",
              "17277  2022-05-30T23:45:00.0000000Z  2022-05-30T23:50:00.0000000Z   \n",
              "17278  2022-05-30T23:50:00.0000000Z  2022-05-30T23:55:00.0000000Z   \n",
              "17279  2022-05-30T23:55:00.0000000Z  2022-05-31T00:00:00.0000000Z   \n",
              "\n",
              "                          time_open                    time_close  \\\n",
              "0      2022-04-01T00:00:00.0000000Z  2022-04-01T00:04:00.0000000Z   \n",
              "1      2022-04-01T00:05:00.0000000Z  2022-04-01T00:09:00.0000000Z   \n",
              "2      2022-04-01T00:10:00.0000000Z  2022-04-01T00:14:00.0000000Z   \n",
              "3      2022-04-01T00:15:00.0000000Z  2022-04-01T00:19:00.0000000Z   \n",
              "4      2022-04-01T00:20:00.0000000Z  2022-04-01T00:24:00.0000000Z   \n",
              "...                             ...                           ...   \n",
              "17275  2022-05-30T23:35:00.0000000Z  2022-05-30T23:39:00.0000000Z   \n",
              "17276  2022-05-30T23:40:00.0000000Z  2022-05-30T23:44:00.0000000Z   \n",
              "17277  2022-05-30T23:45:00.0000000Z  2022-05-30T23:49:00.0000000Z   \n",
              "17278  2022-05-30T23:50:00.0000000Z  2022-05-30T23:54:00.0000000Z   \n",
              "17279  2022-05-30T23:55:00.0000000Z  2022-05-30T23:55:00.0000000Z   \n",
              "\n",
              "         rate_open    rate_high     rate_low   rate_close  \n",
              "0      3279.984979  3283.887269  3276.105218  3283.887269  \n",
              "1      3286.966901  3290.281811  3286.966901  3290.281811  \n",
              "2      3292.566477  3293.938666  3287.320448  3293.938666  \n",
              "3      3293.718140  3293.718140  3291.376920  3291.376920  \n",
              "4      3289.289923  3293.823135  3289.289923  3293.823135  \n",
              "...            ...          ...          ...          ...  \n",
              "17275  1993.328431  1993.328431  1991.957896  1992.162514  \n",
              "17276  1993.205264  1995.663311  1993.074735  1993.074735  \n",
              "17277  1993.914274  1993.914274  1991.981685  1991.981685  \n",
              "17278  1991.975822  1996.060805  1991.975822  1996.060805  \n",
              "17279  1994.536871  1994.536871  1994.536871  1994.536871  \n",
              "\n",
              "[17280 rows x 8 columns]"
            ],
            "text/html": [
              "\n",
              "  <div id=\"df-806b843b-8831-450f-a518-2c99b6b3f790\">\n",
              "    <div class=\"colab-df-container\">\n",
              "      <div>\n",
              "<style scoped>\n",
              "    .dataframe tbody tr th:only-of-type {\n",
              "        vertical-align: middle;\n",
              "    }\n",
              "\n",
              "    .dataframe tbody tr th {\n",
              "        vertical-align: top;\n",
              "    }\n",
              "\n",
              "    .dataframe thead th {\n",
              "        text-align: right;\n",
              "    }\n",
              "</style>\n",
              "<table border=\"1\" class=\"dataframe\">\n",
              "  <thead>\n",
              "    <tr style=\"text-align: right;\">\n",
              "      <th></th>\n",
              "      <th>time_period_start</th>\n",
              "      <th>time_period_end</th>\n",
              "      <th>time_open</th>\n",
              "      <th>time_close</th>\n",
              "      <th>rate_open</th>\n",
              "      <th>rate_high</th>\n",
              "      <th>rate_low</th>\n",
              "      <th>rate_close</th>\n",
              "    </tr>\n",
              "  </thead>\n",
              "  <tbody>\n",
              "    <tr>\n",
              "      <th>0</th>\n",
              "      <td>2022-04-01T00:00:00.0000000Z</td>\n",
              "      <td>2022-04-01T00:05:00.0000000Z</td>\n",
              "      <td>2022-04-01T00:00:00.0000000Z</td>\n",
              "      <td>2022-04-01T00:04:00.0000000Z</td>\n",
              "      <td>3279.984979</td>\n",
              "      <td>3283.887269</td>\n",
              "      <td>3276.105218</td>\n",
              "      <td>3283.887269</td>\n",
              "    </tr>\n",
              "    <tr>\n",
              "      <th>1</th>\n",
              "      <td>2022-04-01T00:05:00.0000000Z</td>\n",
              "      <td>2022-04-01T00:10:00.0000000Z</td>\n",
              "      <td>2022-04-01T00:05:00.0000000Z</td>\n",
              "      <td>2022-04-01T00:09:00.0000000Z</td>\n",
              "      <td>3286.966901</td>\n",
              "      <td>3290.281811</td>\n",
              "      <td>3286.966901</td>\n",
              "      <td>3290.281811</td>\n",
              "    </tr>\n",
              "    <tr>\n",
              "      <th>2</th>\n",
              "      <td>2022-04-01T00:10:00.0000000Z</td>\n",
              "      <td>2022-04-01T00:15:00.0000000Z</td>\n",
              "      <td>2022-04-01T00:10:00.0000000Z</td>\n",
              "      <td>2022-04-01T00:14:00.0000000Z</td>\n",
              "      <td>3292.566477</td>\n",
              "      <td>3293.938666</td>\n",
              "      <td>3287.320448</td>\n",
              "      <td>3293.938666</td>\n",
              "    </tr>\n",
              "    <tr>\n",
              "      <th>3</th>\n",
              "      <td>2022-04-01T00:15:00.0000000Z</td>\n",
              "      <td>2022-04-01T00:20:00.0000000Z</td>\n",
              "      <td>2022-04-01T00:15:00.0000000Z</td>\n",
              "      <td>2022-04-01T00:19:00.0000000Z</td>\n",
              "      <td>3293.718140</td>\n",
              "      <td>3293.718140</td>\n",
              "      <td>3291.376920</td>\n",
              "      <td>3291.376920</td>\n",
              "    </tr>\n",
              "    <tr>\n",
              "      <th>4</th>\n",
              "      <td>2022-04-01T00:20:00.0000000Z</td>\n",
              "      <td>2022-04-01T00:25:00.0000000Z</td>\n",
              "      <td>2022-04-01T00:20:00.0000000Z</td>\n",
              "      <td>2022-04-01T00:24:00.0000000Z</td>\n",
              "      <td>3289.289923</td>\n",
              "      <td>3293.823135</td>\n",
              "      <td>3289.289923</td>\n",
              "      <td>3293.823135</td>\n",
              "    </tr>\n",
              "    <tr>\n",
              "      <th>...</th>\n",
              "      <td>...</td>\n",
              "      <td>...</td>\n",
              "      <td>...</td>\n",
              "      <td>...</td>\n",
              "      <td>...</td>\n",
              "      <td>...</td>\n",
              "      <td>...</td>\n",
              "      <td>...</td>\n",
              "    </tr>\n",
              "    <tr>\n",
              "      <th>17275</th>\n",
              "      <td>2022-05-30T23:35:00.0000000Z</td>\n",
              "      <td>2022-05-30T23:40:00.0000000Z</td>\n",
              "      <td>2022-05-30T23:35:00.0000000Z</td>\n",
              "      <td>2022-05-30T23:39:00.0000000Z</td>\n",
              "      <td>1993.328431</td>\n",
              "      <td>1993.328431</td>\n",
              "      <td>1991.957896</td>\n",
              "      <td>1992.162514</td>\n",
              "    </tr>\n",
              "    <tr>\n",
              "      <th>17276</th>\n",
              "      <td>2022-05-30T23:40:00.0000000Z</td>\n",
              "      <td>2022-05-30T23:45:00.0000000Z</td>\n",
              "      <td>2022-05-30T23:40:00.0000000Z</td>\n",
              "      <td>2022-05-30T23:44:00.0000000Z</td>\n",
              "      <td>1993.205264</td>\n",
              "      <td>1995.663311</td>\n",
              "      <td>1993.074735</td>\n",
              "      <td>1993.074735</td>\n",
              "    </tr>\n",
              "    <tr>\n",
              "      <th>17277</th>\n",
              "      <td>2022-05-30T23:45:00.0000000Z</td>\n",
              "      <td>2022-05-30T23:50:00.0000000Z</td>\n",
              "      <td>2022-05-30T23:45:00.0000000Z</td>\n",
              "      <td>2022-05-30T23:49:00.0000000Z</td>\n",
              "      <td>1993.914274</td>\n",
              "      <td>1993.914274</td>\n",
              "      <td>1991.981685</td>\n",
              "      <td>1991.981685</td>\n",
              "    </tr>\n",
              "    <tr>\n",
              "      <th>17278</th>\n",
              "      <td>2022-05-30T23:50:00.0000000Z</td>\n",
              "      <td>2022-05-30T23:55:00.0000000Z</td>\n",
              "      <td>2022-05-30T23:50:00.0000000Z</td>\n",
              "      <td>2022-05-30T23:54:00.0000000Z</td>\n",
              "      <td>1991.975822</td>\n",
              "      <td>1996.060805</td>\n",
              "      <td>1991.975822</td>\n",
              "      <td>1996.060805</td>\n",
              "    </tr>\n",
              "    <tr>\n",
              "      <th>17279</th>\n",
              "      <td>2022-05-30T23:55:00.0000000Z</td>\n",
              "      <td>2022-05-31T00:00:00.0000000Z</td>\n",
              "      <td>2022-05-30T23:55:00.0000000Z</td>\n",
              "      <td>2022-05-30T23:55:00.0000000Z</td>\n",
              "      <td>1994.536871</td>\n",
              "      <td>1994.536871</td>\n",
              "      <td>1994.536871</td>\n",
              "      <td>1994.536871</td>\n",
              "    </tr>\n",
              "  </tbody>\n",
              "</table>\n",
              "<p>17280 rows × 8 columns</p>\n",
              "</div>\n",
              "      <button class=\"colab-df-convert\" onclick=\"convertToInteractive('df-806b843b-8831-450f-a518-2c99b6b3f790')\"\n",
              "              title=\"Convert this dataframe to an interactive table.\"\n",
              "              style=\"display:none;\">\n",
              "        \n",
              "  <svg xmlns=\"http://www.w3.org/2000/svg\" height=\"24px\"viewBox=\"0 0 24 24\"\n",
              "       width=\"24px\">\n",
              "    <path d=\"M0 0h24v24H0V0z\" fill=\"none\"/>\n",
              "    <path d=\"M18.56 5.44l.94 2.06.94-2.06 2.06-.94-2.06-.94-.94-2.06-.94 2.06-2.06.94zm-11 1L8.5 8.5l.94-2.06 2.06-.94-2.06-.94L8.5 2.5l-.94 2.06-2.06.94zm10 10l.94 2.06.94-2.06 2.06-.94-2.06-.94-.94-2.06-.94 2.06-2.06.94z\"/><path d=\"M17.41 7.96l-1.37-1.37c-.4-.4-.92-.59-1.43-.59-.52 0-1.04.2-1.43.59L10.3 9.45l-7.72 7.72c-.78.78-.78 2.05 0 2.83L4 21.41c.39.39.9.59 1.41.59.51 0 1.02-.2 1.41-.59l7.78-7.78 2.81-2.81c.8-.78.8-2.07 0-2.86zM5.41 20L4 18.59l7.72-7.72 1.47 1.35L5.41 20z\"/>\n",
              "  </svg>\n",
              "      </button>\n",
              "      \n",
              "  <style>\n",
              "    .colab-df-container {\n",
              "      display:flex;\n",
              "      flex-wrap:wrap;\n",
              "      gap: 12px;\n",
              "    }\n",
              "\n",
              "    .colab-df-convert {\n",
              "      background-color: #E8F0FE;\n",
              "      border: none;\n",
              "      border-radius: 50%;\n",
              "      cursor: pointer;\n",
              "      display: none;\n",
              "      fill: #1967D2;\n",
              "      height: 32px;\n",
              "      padding: 0 0 0 0;\n",
              "      width: 32px;\n",
              "    }\n",
              "\n",
              "    .colab-df-convert:hover {\n",
              "      background-color: #E2EBFA;\n",
              "      box-shadow: 0px 1px 2px rgba(60, 64, 67, 0.3), 0px 1px 3px 1px rgba(60, 64, 67, 0.15);\n",
              "      fill: #174EA6;\n",
              "    }\n",
              "\n",
              "    [theme=dark] .colab-df-convert {\n",
              "      background-color: #3B4455;\n",
              "      fill: #D2E3FC;\n",
              "    }\n",
              "\n",
              "    [theme=dark] .colab-df-convert:hover {\n",
              "      background-color: #434B5C;\n",
              "      box-shadow: 0px 1px 3px 1px rgba(0, 0, 0, 0.15);\n",
              "      filter: drop-shadow(0px 1px 2px rgba(0, 0, 0, 0.3));\n",
              "      fill: #FFFFFF;\n",
              "    }\n",
              "  </style>\n",
              "\n",
              "      <script>\n",
              "        const buttonEl =\n",
              "          document.querySelector('#df-806b843b-8831-450f-a518-2c99b6b3f790 button.colab-df-convert');\n",
              "        buttonEl.style.display =\n",
              "          google.colab.kernel.accessAllowed ? 'block' : 'none';\n",
              "\n",
              "        async function convertToInteractive(key) {\n",
              "          const element = document.querySelector('#df-806b843b-8831-450f-a518-2c99b6b3f790');\n",
              "          const dataTable =\n",
              "            await google.colab.kernel.invokeFunction('convertToInteractive',\n",
              "                                                     [key], {});\n",
              "          if (!dataTable) return;\n",
              "\n",
              "          const docLinkHtml = 'Like what you see? Visit the ' +\n",
              "            '<a target=\"_blank\" href=https://colab.research.google.com/notebooks/data_table.ipynb>data table notebook</a>'\n",
              "            + ' to learn more about interactive tables.';\n",
              "          element.innerHTML = '';\n",
              "          dataTable['output_type'] = 'display_data';\n",
              "          await google.colab.output.renderOutput(dataTable, element);\n",
              "          const docLink = document.createElement('div');\n",
              "          docLink.innerHTML = docLinkHtml;\n",
              "          element.appendChild(docLink);\n",
              "        }\n",
              "      </script>\n",
              "    </div>\n",
              "  </div>\n",
              "  "
            ]
          },
          "metadata": {},
          "execution_count": 4
        }
      ]
    },
    {
      "cell_type": "code",
      "source": [
        "trainingNum = int(len(prices) * 0.75)\n",
        "trainingData = prices[:trainingNum]\n",
        "testData = prices[trainingNum:]"
      ],
      "metadata": {
        "id": "Z59oiCykLaHU"
      },
      "execution_count": 5,
      "outputs": []
    },
    {
      "cell_type": "code",
      "source": [
        "trainingData"
      ],
      "metadata": {
        "colab": {
          "base_uri": "https://localhost:8080/",
          "height": 641
        },
        "id": "GsS5P-9ELb2w",
        "outputId": "07909f09-d808-4fb7-d3a5-574b9ad96595"
      },
      "execution_count": 6,
      "outputs": [
        {
          "output_type": "execute_result",
          "data": {
            "text/plain": [
              "                  time_period_start               time_period_end  \\\n",
              "0      2022-04-01T00:00:00.0000000Z  2022-04-01T00:05:00.0000000Z   \n",
              "1      2022-04-01T00:05:00.0000000Z  2022-04-01T00:10:00.0000000Z   \n",
              "2      2022-04-01T00:10:00.0000000Z  2022-04-01T00:15:00.0000000Z   \n",
              "3      2022-04-01T00:15:00.0000000Z  2022-04-01T00:20:00.0000000Z   \n",
              "4      2022-04-01T00:20:00.0000000Z  2022-04-01T00:25:00.0000000Z   \n",
              "...                             ...                           ...   \n",
              "12955  2022-05-15T23:35:00.0000000Z  2022-05-15T23:40:00.0000000Z   \n",
              "12956  2022-05-15T23:40:00.0000000Z  2022-05-15T23:45:00.0000000Z   \n",
              "12957  2022-05-15T23:45:00.0000000Z  2022-05-15T23:50:00.0000000Z   \n",
              "12958  2022-05-15T23:50:00.0000000Z  2022-05-15T23:55:00.0000000Z   \n",
              "12959  2022-05-15T23:55:00.0000000Z  2022-05-16T00:00:00.0000000Z   \n",
              "\n",
              "                          time_open                    time_close  \\\n",
              "0      2022-04-01T00:00:00.0000000Z  2022-04-01T00:04:00.0000000Z   \n",
              "1      2022-04-01T00:05:00.0000000Z  2022-04-01T00:09:00.0000000Z   \n",
              "2      2022-04-01T00:10:00.0000000Z  2022-04-01T00:14:00.0000000Z   \n",
              "3      2022-04-01T00:15:00.0000000Z  2022-04-01T00:19:00.0000000Z   \n",
              "4      2022-04-01T00:20:00.0000000Z  2022-04-01T00:24:00.0000000Z   \n",
              "...                             ...                           ...   \n",
              "12955  2022-05-15T23:35:00.0000000Z  2022-05-15T23:39:00.0000000Z   \n",
              "12956  2022-05-15T23:40:00.0000000Z  2022-05-15T23:44:00.0000000Z   \n",
              "12957  2022-05-15T23:45:00.0000000Z  2022-05-15T23:49:00.0000000Z   \n",
              "12958  2022-05-15T23:50:00.0000000Z  2022-05-15T23:54:00.0000000Z   \n",
              "12959  2022-05-15T23:55:00.0000000Z  2022-05-15T23:59:00.0000000Z   \n",
              "\n",
              "         rate_open    rate_high     rate_low   rate_close  \n",
              "0      3279.984979  3283.887269  3276.105218  3283.887269  \n",
              "1      3286.966901  3290.281811  3286.966901  3290.281811  \n",
              "2      3292.566477  3293.938666  3287.320448  3293.938666  \n",
              "3      3293.718140  3293.718140  3291.376920  3291.376920  \n",
              "4      3289.289923  3293.823135  3289.289923  3293.823135  \n",
              "...            ...          ...          ...          ...  \n",
              "12955  2134.017539  2136.096242  2133.674050  2136.096242  \n",
              "12956  2136.006334  2141.776413  2136.006334  2141.776413  \n",
              "12957  2142.102258  2146.915677  2141.833742  2141.833742  \n",
              "12958  2141.604281  2148.705284  2141.604281  2148.705284  \n",
              "12959  2145.734312  2146.020558  2143.833792  2146.020558  \n",
              "\n",
              "[12960 rows x 8 columns]"
            ],
            "text/html": [
              "\n",
              "  <div id=\"df-138522f6-06a8-432c-b81e-109a57be7486\">\n",
              "    <div class=\"colab-df-container\">\n",
              "      <div>\n",
              "<style scoped>\n",
              "    .dataframe tbody tr th:only-of-type {\n",
              "        vertical-align: middle;\n",
              "    }\n",
              "\n",
              "    .dataframe tbody tr th {\n",
              "        vertical-align: top;\n",
              "    }\n",
              "\n",
              "    .dataframe thead th {\n",
              "        text-align: right;\n",
              "    }\n",
              "</style>\n",
              "<table border=\"1\" class=\"dataframe\">\n",
              "  <thead>\n",
              "    <tr style=\"text-align: right;\">\n",
              "      <th></th>\n",
              "      <th>time_period_start</th>\n",
              "      <th>time_period_end</th>\n",
              "      <th>time_open</th>\n",
              "      <th>time_close</th>\n",
              "      <th>rate_open</th>\n",
              "      <th>rate_high</th>\n",
              "      <th>rate_low</th>\n",
              "      <th>rate_close</th>\n",
              "    </tr>\n",
              "  </thead>\n",
              "  <tbody>\n",
              "    <tr>\n",
              "      <th>0</th>\n",
              "      <td>2022-04-01T00:00:00.0000000Z</td>\n",
              "      <td>2022-04-01T00:05:00.0000000Z</td>\n",
              "      <td>2022-04-01T00:00:00.0000000Z</td>\n",
              "      <td>2022-04-01T00:04:00.0000000Z</td>\n",
              "      <td>3279.984979</td>\n",
              "      <td>3283.887269</td>\n",
              "      <td>3276.105218</td>\n",
              "      <td>3283.887269</td>\n",
              "    </tr>\n",
              "    <tr>\n",
              "      <th>1</th>\n",
              "      <td>2022-04-01T00:05:00.0000000Z</td>\n",
              "      <td>2022-04-01T00:10:00.0000000Z</td>\n",
              "      <td>2022-04-01T00:05:00.0000000Z</td>\n",
              "      <td>2022-04-01T00:09:00.0000000Z</td>\n",
              "      <td>3286.966901</td>\n",
              "      <td>3290.281811</td>\n",
              "      <td>3286.966901</td>\n",
              "      <td>3290.281811</td>\n",
              "    </tr>\n",
              "    <tr>\n",
              "      <th>2</th>\n",
              "      <td>2022-04-01T00:10:00.0000000Z</td>\n",
              "      <td>2022-04-01T00:15:00.0000000Z</td>\n",
              "      <td>2022-04-01T00:10:00.0000000Z</td>\n",
              "      <td>2022-04-01T00:14:00.0000000Z</td>\n",
              "      <td>3292.566477</td>\n",
              "      <td>3293.938666</td>\n",
              "      <td>3287.320448</td>\n",
              "      <td>3293.938666</td>\n",
              "    </tr>\n",
              "    <tr>\n",
              "      <th>3</th>\n",
              "      <td>2022-04-01T00:15:00.0000000Z</td>\n",
              "      <td>2022-04-01T00:20:00.0000000Z</td>\n",
              "      <td>2022-04-01T00:15:00.0000000Z</td>\n",
              "      <td>2022-04-01T00:19:00.0000000Z</td>\n",
              "      <td>3293.718140</td>\n",
              "      <td>3293.718140</td>\n",
              "      <td>3291.376920</td>\n",
              "      <td>3291.376920</td>\n",
              "    </tr>\n",
              "    <tr>\n",
              "      <th>4</th>\n",
              "      <td>2022-04-01T00:20:00.0000000Z</td>\n",
              "      <td>2022-04-01T00:25:00.0000000Z</td>\n",
              "      <td>2022-04-01T00:20:00.0000000Z</td>\n",
              "      <td>2022-04-01T00:24:00.0000000Z</td>\n",
              "      <td>3289.289923</td>\n",
              "      <td>3293.823135</td>\n",
              "      <td>3289.289923</td>\n",
              "      <td>3293.823135</td>\n",
              "    </tr>\n",
              "    <tr>\n",
              "      <th>...</th>\n",
              "      <td>...</td>\n",
              "      <td>...</td>\n",
              "      <td>...</td>\n",
              "      <td>...</td>\n",
              "      <td>...</td>\n",
              "      <td>...</td>\n",
              "      <td>...</td>\n",
              "      <td>...</td>\n",
              "    </tr>\n",
              "    <tr>\n",
              "      <th>12955</th>\n",
              "      <td>2022-05-15T23:35:00.0000000Z</td>\n",
              "      <td>2022-05-15T23:40:00.0000000Z</td>\n",
              "      <td>2022-05-15T23:35:00.0000000Z</td>\n",
              "      <td>2022-05-15T23:39:00.0000000Z</td>\n",
              "      <td>2134.017539</td>\n",
              "      <td>2136.096242</td>\n",
              "      <td>2133.674050</td>\n",
              "      <td>2136.096242</td>\n",
              "    </tr>\n",
              "    <tr>\n",
              "      <th>12956</th>\n",
              "      <td>2022-05-15T23:40:00.0000000Z</td>\n",
              "      <td>2022-05-15T23:45:00.0000000Z</td>\n",
              "      <td>2022-05-15T23:40:00.0000000Z</td>\n",
              "      <td>2022-05-15T23:44:00.0000000Z</td>\n",
              "      <td>2136.006334</td>\n",
              "      <td>2141.776413</td>\n",
              "      <td>2136.006334</td>\n",
              "      <td>2141.776413</td>\n",
              "    </tr>\n",
              "    <tr>\n",
              "      <th>12957</th>\n",
              "      <td>2022-05-15T23:45:00.0000000Z</td>\n",
              "      <td>2022-05-15T23:50:00.0000000Z</td>\n",
              "      <td>2022-05-15T23:45:00.0000000Z</td>\n",
              "      <td>2022-05-15T23:49:00.0000000Z</td>\n",
              "      <td>2142.102258</td>\n",
              "      <td>2146.915677</td>\n",
              "      <td>2141.833742</td>\n",
              "      <td>2141.833742</td>\n",
              "    </tr>\n",
              "    <tr>\n",
              "      <th>12958</th>\n",
              "      <td>2022-05-15T23:50:00.0000000Z</td>\n",
              "      <td>2022-05-15T23:55:00.0000000Z</td>\n",
              "      <td>2022-05-15T23:50:00.0000000Z</td>\n",
              "      <td>2022-05-15T23:54:00.0000000Z</td>\n",
              "      <td>2141.604281</td>\n",
              "      <td>2148.705284</td>\n",
              "      <td>2141.604281</td>\n",
              "      <td>2148.705284</td>\n",
              "    </tr>\n",
              "    <tr>\n",
              "      <th>12959</th>\n",
              "      <td>2022-05-15T23:55:00.0000000Z</td>\n",
              "      <td>2022-05-16T00:00:00.0000000Z</td>\n",
              "      <td>2022-05-15T23:55:00.0000000Z</td>\n",
              "      <td>2022-05-15T23:59:00.0000000Z</td>\n",
              "      <td>2145.734312</td>\n",
              "      <td>2146.020558</td>\n",
              "      <td>2143.833792</td>\n",
              "      <td>2146.020558</td>\n",
              "    </tr>\n",
              "  </tbody>\n",
              "</table>\n",
              "<p>12960 rows × 8 columns</p>\n",
              "</div>\n",
              "      <button class=\"colab-df-convert\" onclick=\"convertToInteractive('df-138522f6-06a8-432c-b81e-109a57be7486')\"\n",
              "              title=\"Convert this dataframe to an interactive table.\"\n",
              "              style=\"display:none;\">\n",
              "        \n",
              "  <svg xmlns=\"http://www.w3.org/2000/svg\" height=\"24px\"viewBox=\"0 0 24 24\"\n",
              "       width=\"24px\">\n",
              "    <path d=\"M0 0h24v24H0V0z\" fill=\"none\"/>\n",
              "    <path d=\"M18.56 5.44l.94 2.06.94-2.06 2.06-.94-2.06-.94-.94-2.06-.94 2.06-2.06.94zm-11 1L8.5 8.5l.94-2.06 2.06-.94-2.06-.94L8.5 2.5l-.94 2.06-2.06.94zm10 10l.94 2.06.94-2.06 2.06-.94-2.06-.94-.94-2.06-.94 2.06-2.06.94z\"/><path d=\"M17.41 7.96l-1.37-1.37c-.4-.4-.92-.59-1.43-.59-.52 0-1.04.2-1.43.59L10.3 9.45l-7.72 7.72c-.78.78-.78 2.05 0 2.83L4 21.41c.39.39.9.59 1.41.59.51 0 1.02-.2 1.41-.59l7.78-7.78 2.81-2.81c.8-.78.8-2.07 0-2.86zM5.41 20L4 18.59l7.72-7.72 1.47 1.35L5.41 20z\"/>\n",
              "  </svg>\n",
              "      </button>\n",
              "      \n",
              "  <style>\n",
              "    .colab-df-container {\n",
              "      display:flex;\n",
              "      flex-wrap:wrap;\n",
              "      gap: 12px;\n",
              "    }\n",
              "\n",
              "    .colab-df-convert {\n",
              "      background-color: #E8F0FE;\n",
              "      border: none;\n",
              "      border-radius: 50%;\n",
              "      cursor: pointer;\n",
              "      display: none;\n",
              "      fill: #1967D2;\n",
              "      height: 32px;\n",
              "      padding: 0 0 0 0;\n",
              "      width: 32px;\n",
              "    }\n",
              "\n",
              "    .colab-df-convert:hover {\n",
              "      background-color: #E2EBFA;\n",
              "      box-shadow: 0px 1px 2px rgba(60, 64, 67, 0.3), 0px 1px 3px 1px rgba(60, 64, 67, 0.15);\n",
              "      fill: #174EA6;\n",
              "    }\n",
              "\n",
              "    [theme=dark] .colab-df-convert {\n",
              "      background-color: #3B4455;\n",
              "      fill: #D2E3FC;\n",
              "    }\n",
              "\n",
              "    [theme=dark] .colab-df-convert:hover {\n",
              "      background-color: #434B5C;\n",
              "      box-shadow: 0px 1px 3px 1px rgba(0, 0, 0, 0.15);\n",
              "      filter: drop-shadow(0px 1px 2px rgba(0, 0, 0, 0.3));\n",
              "      fill: #FFFFFF;\n",
              "    }\n",
              "  </style>\n",
              "\n",
              "      <script>\n",
              "        const buttonEl =\n",
              "          document.querySelector('#df-138522f6-06a8-432c-b81e-109a57be7486 button.colab-df-convert');\n",
              "        buttonEl.style.display =\n",
              "          google.colab.kernel.accessAllowed ? 'block' : 'none';\n",
              "\n",
              "        async function convertToInteractive(key) {\n",
              "          const element = document.querySelector('#df-138522f6-06a8-432c-b81e-109a57be7486');\n",
              "          const dataTable =\n",
              "            await google.colab.kernel.invokeFunction('convertToInteractive',\n",
              "                                                     [key], {});\n",
              "          if (!dataTable) return;\n",
              "\n",
              "          const docLinkHtml = 'Like what you see? Visit the ' +\n",
              "            '<a target=\"_blank\" href=https://colab.research.google.com/notebooks/data_table.ipynb>data table notebook</a>'\n",
              "            + ' to learn more about interactive tables.';\n",
              "          element.innerHTML = '';\n",
              "          dataTable['output_type'] = 'display_data';\n",
              "          await google.colab.output.renderOutput(dataTable, element);\n",
              "          const docLink = document.createElement('div');\n",
              "          docLink.innerHTML = docLinkHtml;\n",
              "          element.appendChild(docLink);\n",
              "        }\n",
              "      </script>\n",
              "    </div>\n",
              "  </div>\n",
              "  "
            ]
          },
          "metadata": {},
          "execution_count": 6
        }
      ]
    },
    {
      "cell_type": "code",
      "source": [
        "#Parse Coin API data\n",
        "priceIntervals = []\n",
        "for i in trainingData.index:\n",
        "  priceIntervals.append(trainingData['rate_open'][i])\n",
        "  priceIntervals.append(trainingData['rate_close'][i])\n",
        "priceIntervals = pd.Series(priceIntervals)"
      ],
      "metadata": {
        "id": "I8c58TuULdlG"
      },
      "execution_count": 7,
      "outputs": []
    },
    {
      "cell_type": "code",
      "source": [
        "plt.plot(priceIntervals)"
      ],
      "metadata": {
        "colab": {
          "base_uri": "https://localhost:8080/",
          "height": 282
        },
        "id": "_jLFsj2VLx99",
        "outputId": "6586668f-fe30-4275-d53e-c41f8d1dc654"
      },
      "execution_count": 8,
      "outputs": [
        {
          "output_type": "execute_result",
          "data": {
            "text/plain": [
              "[<matplotlib.lines.Line2D at 0x7f8f43ece210>]"
            ]
          },
          "metadata": {},
          "execution_count": 8
        },
        {
          "output_type": "display_data",
          "data": {
            "text/plain": [
              "<Figure size 432x288 with 1 Axes>"
            ],
            "image/png": "[encoded data removed]"
          },
          "metadata": {
            "needs_background": "light"
          }
        }
      ]
    },
    {
      "cell_type": "code",
      "source": [
        "augmentedDickeyFullerResultPrices = adfuller(priceIntervals)\n",
        "print('ADF Statistic: ', augmentedDickeyFullerResultPrices[0])\n",
        "print('p-value: ', augmentedDickeyFullerResultPrices[1])"
      ],
      "metadata": {
        "colab": {
          "base_uri": "https://localhost:8080/"
        },
        "id": "2ShpygkaL0bK",
        "outputId": "2a4bfd7b-9d2b-47a7-9d5e-88dabbcefa3d"
      },
      "execution_count": 9,
      "outputs": [
        {
          "output_type": "stream",
          "name": "stdout",
          "text": [
            "ADF Statistic:  -0.21508590475723305\n",
            "p-value:  0.9366993648491632\n"
          ]
        }
      ]
    },
    {
      "cell_type": "code",
      "source": [
        "#There are 288 5-minute intervals in 24 hours (12 5-minute intervals per hour times 24 hours)\n",
        "#priceIntervals has 2 data points for each 5-minute interval, the rate_close of the previous and the rate_open of the next\n",
        "dailyRealizedPower = []\n",
        "for i in range(45):\n",
        "  #45 days in trainingData\n",
        "  accumulatingRealizedPower = 0\n",
        "  for j in range(288):\n",
        "    #288 5-minute intervals in each day\n",
        "    index = 576 * i + 2 * j\n",
        "    accumulatingRealizedPower = abs(math.log(priceIntervals[index + 1]) - math.log(priceIntervals[index]))\n",
        "  dailyRealizedPower.append(accumulatingRealizedPower)\n",
        "dailyRealizedPower = pd.Series(dailyRealizedPower)"
      ],
      "metadata": {
        "id": "TxN_uOGgL2MB"
      },
      "execution_count": 10,
      "outputs": []
    },
    {
      "cell_type": "code",
      "source": [
        "plt.plot(dailyRealizedPower)"
      ],
      "metadata": {
        "colab": {
          "base_uri": "https://localhost:8080/",
          "height": 286
        },
        "id": "jJLAoB1EL3lp",
        "outputId": "1f50321a-5580-4243-be36-68da668b21de"
      },
      "execution_count": 11,
      "outputs": [
        {
          "output_type": "execute_result",
          "data": {
            "text/plain": [
              "[<matplotlib.lines.Line2D at 0x7f8f43889a10>]"
            ]
          },
          "metadata": {},
          "execution_count": 11
        },
        {
          "output_type": "display_data",
          "data": {
            "text/plain": [
              "<Figure size 432x288 with 1 Axes>"
            ],
            "image/png": "[encoded data removed]"
          },
          "metadata": {
            "needs_background": "light"
          }
        }
      ]
    },
    {
      "cell_type": "code",
      "source": [
        "scaler = MinMaxScaler(feature_range=(0, 1))\n",
        "scaledDailyRealizedPower = scaler.fit_transform(dailyRealizedPower.to_frame())\n",
        "plt.plot(scaledDailyRealizedPower)"
      ],
      "metadata": {
        "colab": {
          "base_uri": "https://localhost:8080/",
          "height": 282
        },
        "id": "BtAQdfWQL6kU",
        "outputId": "468b7977-a620-482a-8a6c-60f711c2f981"
      },
      "execution_count": 12,
      "outputs": [
        {
          "output_type": "execute_result",
          "data": {
            "text/plain": [
              "[<matplotlib.lines.Line2D at 0x7f8f4365eb10>]"
            ]
          },
          "metadata": {},
          "execution_count": 12
        },
        {
          "output_type": "display_data",
          "data": {
            "text/plain": [
              "<Figure size 432x288 with 1 Axes>"
            ],
            "image/png": "[encoded data removed]"
          },
          "metadata": {
            "needs_background": "light"
          }
        }
      ]
    },
    {
      "cell_type": "code",
      "source": [
        "augmentedDickeyFullerResultPower = adfuller(scaledDailyRealizedPower.flatten())\n",
        "print('ADF Statistic: ', augmentedDickeyFullerResultPower[0])\n",
        "print('p-value: ', augmentedDickeyFullerResultPower[1])"
      ],
      "metadata": {
        "colab": {
          "base_uri": "https://localhost:8080/"
        },
        "id": "SdlgLi1LMASc",
        "outputId": "fe86918d-f0c5-4a84-e193-6c14c03bf4e4"
      },
      "execution_count": 13,
      "outputs": [
        {
          "output_type": "stream",
          "name": "stdout",
          "text": [
            "ADF Statistic:  -5.8218717369440425\n",
            "p-value:  4.16474569018591e-07\n"
          ]
        }
      ]
    }
  ]
}