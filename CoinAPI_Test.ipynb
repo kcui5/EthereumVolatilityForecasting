{
  "nbformat": 4,
  "nbformat_minor": 0,
  "metadata": {
    "colab": {
      "name": "CoinAPI Test.ipynb",
      "provenance": [],
      "collapsed_sections": []
    },
    "kernelspec": {
      "name": "python3",
      "display_name": "Python 3"
    },
    "language_info": {
      "name": "python"
    }
  },
  "cells": [
    {
      "cell_type": "code",
      "source": [
        "import os\n",
        "import pickle\n",
        "import requests\n",
        "import math\n",
        "import pandas as pd\n",
        "import matplotlib.pyplot as plt\n",
        "from sklearn.preprocessing import MinMaxScaler\n",
        "from statsmodels.tsa.stattools import adfuller"
      ],
      "metadata": {
        "id": "69oJ-lyBiA-P"
      },
      "execution_count": 1,
      "outputs": []
    },
    {
      "cell_type": "code",
      "source": [
        "#Kyle's:\n",
        "API_KEY = 'D438F7E0-448F-4BFD-A3AB-EB9143A0795C'\n",
        "#Daniel's:\n",
        "#API_KEY = '57586AA3-0647-4D74-AA45-C8EE367BDF36'"
      ],
      "metadata": {
        "id": "1xyTUio_ztF7"
      },
      "execution_count": 3,
      "outputs": []
    },
    {
      "cell_type": "code",
      "source": [
        "def getPriceData(timeStart, timeEnd):\n",
        "  url = f'https://rest.coinapi.io/v1/exchangerate/ETH/USD/history?period_id=5MIN&time_start={timeStart}&time_end={timeEnd}&limit=100000'\n",
        "  headers = {'X-CoinAPI-Key' : API_KEY}\n",
        "  response = requests.get(url, headers=headers)\n",
        "  return response"
      ],
      "metadata": {
        "id": "8oTHUxkQt3jw"
      },
      "execution_count": 4,
      "outputs": []
    },
    {
      "cell_type": "code",
      "source": [
        "os.remove(\"PRICES.txt\")"
      ],
      "metadata": {
        "id": "TLu-k9El2IBY"
      },
      "execution_count": null,
      "outputs": []
    },
    {
      "cell_type": "code",
      "source": [
        "response = getPriceData('2022-01-01T00:00:00', '2022-03-31T23:55:00')\n",
        "priceFile = open(\"PRICES_1.txt\", \"wb\")\n",
        "pickle.dump(response, priceFile)"
      ],
      "metadata": {
        "id": "DSf9YlzRu5X-"
      },
      "execution_count": 33,
      "outputs": []
    },
    {
      "cell_type": "code",
      "source": [
        "response.headers\n",
        "#response.json()"
      ],
      "metadata": {
        "id": "-bjAU5-rxrNy",
        "colab": {
          "base_uri": "https://localhost:8080/"
        },
        "outputId": "f4d3c83b-9376-4d5b-96b7-e63510576118"
      },
      "execution_count": 36,
      "outputs": [
        {
          "output_type": "execute_result",
          "data": {
            "text/plain": [
              "{'date': 'Wed, 01 Jun 2022 14:40:48 GMT', 'content-type': 'application/json', 'transfer-encoding': 'chunked', 'x-concurrencylimit-limit': '1', 'x-concurrencylimit-remaining': '1', 'x-ratelimit-used': '171', 'x-ratelimit-overage': 'disabled', 'x-ratelimit-limit': '100', 'x-ratelimit-remaining': '-71', 'x-ratelimit-reset': '2022-06-02T14:40:48.1070382Z'}"
            ]
          },
          "metadata": {},
          "execution_count": 36
        }
      ]
    },
    {
      "cell_type": "code",
      "source": [
        "create_dataset(scaledDailyRealizedPower, 4)"
      ],
      "metadata": {
        "colab": {
          "base_uri": "https://localhost:8080/"
        },
        "id": "fAksU0aFTNl8",
        "outputId": "aafe5e9a-bade-43db-d555-49667e8e08c4"
      },
      "execution_count": 203,
      "outputs": [
        {
          "output_type": "execute_result",
          "data": {
            "text/plain": [
              "(0     [0.2535094884289508, 0.18037515752930078, 0.01...\n",
              " 1     [0.18037515752930078, 0.01270775200450823, 0.0...\n",
              " 2     [0.01270775200450823, 0.03802045399547607, 0.1...\n",
              " 3     [0.03802045399547607, 0.14921286558137764, 0.1...\n",
              " 4     [0.14921286558137764, 0.18441707974880622, 0.0...\n",
              " 5     [0.18441707974880622, 0.07487744613845064, 0.0...\n",
              " 6     [0.07487744613845064, 0.028384752344809156, 0....\n",
              " 7     [0.028384752344809156, 0.17798790183221694, 0....\n",
              " 8     [0.17798790183221694, 0.5659140135604735, 0.05...\n",
              " 9     [0.5659140135604735, 0.05942078209225242, 0.16...\n",
              " 10    [0.05942078209225242, 0.16437448127832574, 0.0...\n",
              " 11    [0.16437448127832574, 0.04714207631807514, 0.1...\n",
              " 12    [0.04714207631807514, 0.13072923431141667, 0.0...\n",
              " 13    [0.13072923431141667, 0.05111113737217429, 0.0...\n",
              " 14    [0.05111113737217429, 0.013432230389235057, 0....\n",
              " 15    [0.013432230389235057, 0.1264032767766192, 0.1...\n",
              " 16    [0.1264032767766192, 0.19616476269240354, 0.12...\n",
              " 17    [0.19616476269240354, 0.12025359406556671, 0.0...\n",
              " 18    [0.12025359406556671, 0.08082080797875296, 0.0...\n",
              " 19    [0.08082080797875296, 0.05270560912042796, 0.1...\n",
              " 20    [0.05270560912042796, 0.1256724418405336, 0.07...\n",
              " 21    [0.1256724418405336, 0.07093649105159339, 0.11...\n",
              " 22    [0.07093649105159339, 0.11208385184089445, 0.0...\n",
              " 23    [0.11208385184089445, 0.09752600611471504, 0.4...\n",
              " 24    [0.09752600611471504, 0.4230802545104168, 0.01...\n",
              " 25    [0.4230802545104168, 0.017818321046150713, 0.0...\n",
              " 26    [0.017818321046150713, 0.09424660922409848, 0....\n",
              " 27    [0.09424660922409848, 0.06466797633884214, 0.0...\n",
              " 28    [0.06466797633884214, 0.027351825912433594, 0....\n",
              " 29    [0.027351825912433594, 0.18453628261319233, 0....\n",
              " 30    [0.18453628261319233, 0.011340936711477463, 0....\n",
              " 31    [0.011340936711477463, 0.014159399183894524, 0...\n",
              " 32    [0.014159399183894524, 0.05632336463874758, 0....\n",
              " 33    [0.05632336463874758, 0.15599924871926213, 0.1...\n",
              " 34    [0.15599924871926213, 0.11086624457273615, 0.1...\n",
              " 35    [0.11086624457273615, 0.19927705138802246, 0.6...\n",
              " 36    [0.19927705138802246, 0.6230880774182707, 0.99...\n",
              " 37    [0.6230880774182707, 0.9999999999999999, 0.0, ...\n",
              " 38    [0.9999999999999999, 0.0, 0.05315505217097995,...\n",
              " 39    [0.0, 0.05315505217097995, 0.6332697626961539,...\n",
              " dtype: object, 0     0.149213\n",
              " 1     0.184417\n",
              " 2     0.074877\n",
              " 3     0.028385\n",
              " 4     0.177988\n",
              " 5     0.565914\n",
              " 6     0.059421\n",
              " 7     0.164374\n",
              " 8     0.047142\n",
              " 9     0.130729\n",
              " 10    0.051111\n",
              " 11    0.013432\n",
              " 12    0.126403\n",
              " 13    0.196165\n",
              " 14    0.120254\n",
              " 15    0.080821\n",
              " 16    0.052706\n",
              " 17    0.125672\n",
              " 18    0.070936\n",
              " 19    0.112084\n",
              " 20    0.097526\n",
              " 21    0.423080\n",
              " 22    0.017818\n",
              " 23    0.094247\n",
              " 24    0.064668\n",
              " 25    0.027352\n",
              " 26    0.184536\n",
              " 27    0.011341\n",
              " 28    0.014159\n",
              " 29    0.056323\n",
              " 30    0.155999\n",
              " 31    0.110866\n",
              " 32    0.199277\n",
              " 33    0.623088\n",
              " 34    1.000000\n",
              " 35    0.000000\n",
              " 36    0.053155\n",
              " 37    0.633270\n",
              " 38    0.040811\n",
              " 39    0.339417\n",
              " dtype: float64)"
            ]
          },
          "metadata": {},
          "execution_count": 203
        }
      ]
    }
  ]
}