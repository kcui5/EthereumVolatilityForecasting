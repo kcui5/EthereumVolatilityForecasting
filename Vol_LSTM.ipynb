{
  "nbformat": 4,
  "nbformat_minor": 0,
  "metadata": {
    "colab": {
      "name": "Vol LSTM.ipynb",
      "provenance": [],
      "collapsed_sections": []
    },
    "kernelspec": {
      "name": "python3",
      "display_name": "Python 3"
    },
    "language_info": {
      "name": "python"
    }
  },
  "cells": [
    {
      "cell_type": "code",
      "execution_count": null,
      "metadata": {
        "id": "J8Ytxohd_2kc"
      },
      "outputs": [],
      "source": [
        "import pickle\n",
        "import math\n",
        "import numpy as np\n",
        "import pandas as pd\n",
        "import matplotlib.pyplot as plt\n",
        "from sklearn.preprocessing import MinMaxScaler\n",
        "from sklearn.metrics import mean_squared_error\n",
        "from statsmodels.tsa.stattools import adfuller\n",
        "from keras.models import Sequential\n",
        "from keras.layers import Dense\n",
        "from keras.layers import LSTM\n",
        "from keras.layers import Dropout\n",
        "from keras import activations"
      ]
    },
    {
      "cell_type": "code",
      "source": [
        "#Import Binance API price data\n",
        "priceFile = open(\"PRICES_-1.txt\", \"rb\")\n",
        "pricesResponse = pickle.load(priceFile)\n",
        "prices = pd.DataFrame.from_dict(pricesResponse.json())"
      ],
      "metadata": {
        "id": "SuF6ewCGAYor"
      },
      "execution_count": null,
      "outputs": []
    },
    {
      "cell_type": "code",
      "source": [
        "#Import CSV price data\n",
        "prices = pd.read_csv('ETHUSD 1-1-17 to 5-28-22.csv', engine='python')"
      ],
      "metadata": {
        "id": "mU8vsw8FAf_m"
      },
      "execution_count": null,
      "outputs": []
    },
    {
      "cell_type": "code",
      "source": [
        "prices"
      ],
      "metadata": {
        "colab": {
          "base_uri": "https://localhost:8080/",
          "height": 424
        },
        "id": "0msDaKneAIsP",
        "outputId": "4db9af8e-fe5f-4ec7-bf3e-cc42b5315db9"
      },
      "execution_count": null,
      "outputs": [
        {
          "output_type": "execute_result",
          "data": {
            "text/plain": [
              "            Date         Open         High          Low        Close  \\\n",
              "0     2017-11-09   308.644989   329.451996   307.056000   320.884003   \n",
              "1     2017-11-10   320.670990   324.717987   294.541992   299.252991   \n",
              "2     2017-11-11   298.585999   319.453003   298.191986   314.681000   \n",
              "3     2017-11-12   314.690002   319.153015   298.513000   307.907990   \n",
              "4     2017-11-13   307.024994   328.415009   307.024994   316.716003   \n",
              "...          ...          ...          ...          ...          ...   \n",
              "1657  2022-05-24  1972.390869  1991.535522  1920.688110  1978.982788   \n",
              "1658  2022-05-25  1978.677002  2014.369507  1943.938599  1944.827881   \n",
              "1659  2022-05-26  1945.033325  1962.171143  1759.199585  1803.913330   \n",
              "1660  2022-05-27  1802.543823  1814.656494  1721.264771  1724.922852   \n",
              "1661  2022-05-28  1724.635986  1757.941772  1724.635986  1757.941772   \n",
              "\n",
              "        Adj Close       Volume  \n",
              "0      320.884003    893249984  \n",
              "1      299.252991    885985984  \n",
              "2      314.681000    842300992  \n",
              "3      307.907990   1613479936  \n",
              "4      316.716003   1041889984  \n",
              "...           ...          ...  \n",
              "1657  1978.982788  13057109007  \n",
              "1658  1944.827881  13364545730  \n",
              "1659  1803.913330  23458681818  \n",
              "1660  1724.922852  25470760032  \n",
              "1661  1757.941772  23214777872  \n",
              "\n",
              "[1662 rows x 7 columns]"
            ],
            "text/html": [
              "\n",
              "  <div id=\"df-e93d86b9-3f06-476a-b0f4-707ca9f267e1\">\n",
              "    <div class=\"colab-df-container\">\n",
              "      <div>\n",
              "<style scoped>\n",
              "    .dataframe tbody tr th:only-of-type {\n",
              "        vertical-align: middle;\n",
              "    }\n",
              "\n",
              "    .dataframe tbody tr th {\n",
              "        vertical-align: top;\n",
              "    }\n",
              "\n",
              "    .dataframe thead th {\n",
              "        text-align: right;\n",
              "    }\n",
              "</style>\n",
              "<table border=\"1\" class=\"dataframe\">\n",
              "  <thead>\n",
              "    <tr style=\"text-align: right;\">\n",
              "      <th></th>\n",
              "      <th>Date</th>\n",
              "      <th>Open</th>\n",
              "      <th>High</th>\n",
              "      <th>Low</th>\n",
              "      <th>Close</th>\n",
              "      <th>Adj Close</th>\n",
              "      <th>Volume</th>\n",
              "    </tr>\n",
              "  </thead>\n",
              "  <tbody>\n",
              "    <tr>\n",
              "      <th>0</th>\n",
              "      <td>2017-11-09</td>\n",
              "      <td>308.644989</td>\n",
              "      <td>329.451996</td>\n",
              "      <td>307.056000</td>\n",
              "      <td>320.884003</td>\n",
              "      <td>320.884003</td>\n",
              "      <td>893249984</td>\n",
              "    </tr>\n",
              "    <tr>\n",
              "      <th>1</th>\n",
              "      <td>2017-11-10</td>\n",
              "      <td>320.670990</td>\n",
              "      <td>324.717987</td>\n",
              "      <td>294.541992</td>\n",
              "      <td>299.252991</td>\n",
              "      <td>299.252991</td>\n",
              "      <td>885985984</td>\n",
              "    </tr>\n",
              "    <tr>\n",
              "      <th>2</th>\n",
              "      <td>2017-11-11</td>\n",
              "      <td>298.585999</td>\n",
              "      <td>319.453003</td>\n",
              "      <td>298.191986</td>\n",
              "      <td>314.681000</td>\n",
              "      <td>314.681000</td>\n",
              "      <td>842300992</td>\n",
              "    </tr>\n",
              "    <tr>\n",
              "      <th>3</th>\n",
              "      <td>2017-11-12</td>\n",
              "      <td>314.690002</td>\n",
              "      <td>319.153015</td>\n",
              "      <td>298.513000</td>\n",
              "      <td>307.907990</td>\n",
              "      <td>307.907990</td>\n",
              "      <td>1613479936</td>\n",
              "    </tr>\n",
              "    <tr>\n",
              "      <th>4</th>\n",
              "      <td>2017-11-13</td>\n",
              "      <td>307.024994</td>\n",
              "      <td>328.415009</td>\n",
              "      <td>307.024994</td>\n",
              "      <td>316.716003</td>\n",
              "      <td>316.716003</td>\n",
              "      <td>1041889984</td>\n",
              "    </tr>\n",
              "    <tr>\n",
              "      <th>...</th>\n",
              "      <td>...</td>\n",
              "      <td>...</td>\n",
              "      <td>...</td>\n",
              "      <td>...</td>\n",
              "      <td>...</td>\n",
              "      <td>...</td>\n",
              "      <td>...</td>\n",
              "    </tr>\n",
              "    <tr>\n",
              "      <th>1657</th>\n",
              "      <td>2022-05-24</td>\n",
              "      <td>1972.390869</td>\n",
              "      <td>1991.535522</td>\n",
              "      <td>1920.688110</td>\n",
              "      <td>1978.982788</td>\n",
              "      <td>1978.982788</td>\n",
              "      <td>13057109007</td>\n",
              "    </tr>\n",
              "    <tr>\n",
              "      <th>1658</th>\n",
              "      <td>2022-05-25</td>\n",
              "      <td>1978.677002</td>\n",
              "      <td>2014.369507</td>\n",
              "      <td>1943.938599</td>\n",
              "      <td>1944.827881</td>\n",
              "      <td>1944.827881</td>\n",
              "      <td>13364545730</td>\n",
              "    </tr>\n",
              "    <tr>\n",
              "      <th>1659</th>\n",
              "      <td>2022-05-26</td>\n",
              "      <td>1945.033325</td>\n",
              "      <td>1962.171143</td>\n",
              "      <td>1759.199585</td>\n",
              "      <td>1803.913330</td>\n",
              "      <td>1803.913330</td>\n",
              "      <td>23458681818</td>\n",
              "    </tr>\n",
              "    <tr>\n",
              "      <th>1660</th>\n",
              "      <td>2022-05-27</td>\n",
              "      <td>1802.543823</td>\n",
              "      <td>1814.656494</td>\n",
              "      <td>1721.264771</td>\n",
              "      <td>1724.922852</td>\n",
              "      <td>1724.922852</td>\n",
              "      <td>25470760032</td>\n",
              "    </tr>\n",
              "    <tr>\n",
              "      <th>1661</th>\n",
              "      <td>2022-05-28</td>\n",
              "      <td>1724.635986</td>\n",
              "      <td>1757.941772</td>\n",
              "      <td>1724.635986</td>\n",
              "      <td>1757.941772</td>\n",
              "      <td>1757.941772</td>\n",
              "      <td>23214777872</td>\n",
              "    </tr>\n",
              "  </tbody>\n",
              "</table>\n",
              "<p>1662 rows × 7 columns</p>\n",
              "</div>\n",
              "      <button class=\"colab-df-convert\" onclick=\"convertToInteractive('df-e93d86b9-3f06-476a-b0f4-707ca9f267e1')\"\n",
              "              title=\"Convert this dataframe to an interactive table.\"\n",
              "              style=\"display:none;\">\n",
              "        \n",
              "  <svg xmlns=\"http://www.w3.org/2000/svg\" height=\"24px\"viewBox=\"0 0 24 24\"\n",
              "       width=\"24px\">\n",
              "    <path d=\"M0 0h24v24H0V0z\" fill=\"none\"/>\n",
              "    <path d=\"M18.56 5.44l.94 2.06.94-2.06 2.06-.94-2.06-.94-.94-2.06-.94 2.06-2.06.94zm-11 1L8.5 8.5l.94-2.06 2.06-.94-2.06-.94L8.5 2.5l-.94 2.06-2.06.94zm10 10l.94 2.06.94-2.06 2.06-.94-2.06-.94-.94-2.06-.94 2.06-2.06.94z\"/><path d=\"M17.41 7.96l-1.37-1.37c-.4-.4-.92-.59-1.43-.59-.52 0-1.04.2-1.43.59L10.3 9.45l-7.72 7.72c-.78.78-.78 2.05 0 2.83L4 21.41c.39.39.9.59 1.41.59.51 0 1.02-.2 1.41-.59l7.78-7.78 2.81-2.81c.8-.78.8-2.07 0-2.86zM5.41 20L4 18.59l7.72-7.72 1.47 1.35L5.41 20z\"/>\n",
              "  </svg>\n",
              "      </button>\n",
              "      \n",
              "  <style>\n",
              "    .colab-df-container {\n",
              "      display:flex;\n",
              "      flex-wrap:wrap;\n",
              "      gap: 12px;\n",
              "    }\n",
              "\n",
              "    .colab-df-convert {\n",
              "      background-color: #E8F0FE;\n",
              "      border: none;\n",
              "      border-radius: 50%;\n",
              "      cursor: pointer;\n",
              "      display: none;\n",
              "      fill: #1967D2;\n",
              "      height: 32px;\n",
              "      padding: 0 0 0 0;\n",
              "      width: 32px;\n",
              "    }\n",
              "\n",
              "    .colab-df-convert:hover {\n",
              "      background-color: #E2EBFA;\n",
              "      box-shadow: 0px 1px 2px rgba(60, 64, 67, 0.3), 0px 1px 3px 1px rgba(60, 64, 67, 0.15);\n",
              "      fill: #174EA6;\n",
              "    }\n",
              "\n",
              "    [theme=dark] .colab-df-convert {\n",
              "      background-color: #3B4455;\n",
              "      fill: #D2E3FC;\n",
              "    }\n",
              "\n",
              "    [theme=dark] .colab-df-convert:hover {\n",
              "      background-color: #434B5C;\n",
              "      box-shadow: 0px 1px 3px 1px rgba(0, 0, 0, 0.15);\n",
              "      filter: drop-shadow(0px 1px 2px rgba(0, 0, 0, 0.3));\n",
              "      fill: #FFFFFF;\n",
              "    }\n",
              "  </style>\n",
              "\n",
              "      <script>\n",
              "        const buttonEl =\n",
              "          document.querySelector('#df-e93d86b9-3f06-476a-b0f4-707ca9f267e1 button.colab-df-convert');\n",
              "        buttonEl.style.display =\n",
              "          google.colab.kernel.accessAllowed ? 'block' : 'none';\n",
              "\n",
              "        async function convertToInteractive(key) {\n",
              "          const element = document.querySelector('#df-e93d86b9-3f06-476a-b0f4-707ca9f267e1');\n",
              "          const dataTable =\n",
              "            await google.colab.kernel.invokeFunction('convertToInteractive',\n",
              "                                                     [key], {});\n",
              "          if (!dataTable) return;\n",
              "\n",
              "          const docLinkHtml = 'Like what you see? Visit the ' +\n",
              "            '<a target=\"_blank\" href=https://colab.research.google.com/notebooks/data_table.ipynb>data table notebook</a>'\n",
              "            + ' to learn more about interactive tables.';\n",
              "          element.innerHTML = '';\n",
              "          dataTable['output_type'] = 'display_data';\n",
              "          await google.colab.output.renderOutput(dataTable, element);\n",
              "          const docLink = document.createElement('div');\n",
              "          docLink.innerHTML = docLinkHtml;\n",
              "          element.appendChild(docLink);\n",
              "        }\n",
              "      </script>\n",
              "    </div>\n",
              "  </div>\n",
              "  "
            ]
          },
          "metadata": {},
          "execution_count": 6
        }
      ]
    },
    {
      "cell_type": "code",
      "source": [
        "trainingNum = int(len(prices) * 0.75)\n",
        "trainingData = prices[:trainingNum]\n",
        "testData = prices[trainingNum:]"
      ],
      "metadata": {
        "id": "smjAsCM6A2JW"
      },
      "execution_count": null,
      "outputs": []
    },
    {
      "cell_type": "code",
      "source": [
        "trainingData"
      ],
      "metadata": {
        "colab": {
          "base_uri": "https://localhost:8080/",
          "height": 424
        },
        "id": "byfMILFJFG0Q",
        "outputId": "82551c7a-60ba-4672-c294-3f8b3e0b53cb"
      },
      "execution_count": null,
      "outputs": [
        {
          "output_type": "execute_result",
          "data": {
            "text/plain": [
              "            Date         Open         High          Low        Close  \\\n",
              "0     2017-11-09   308.644989   329.451996   307.056000   320.884003   \n",
              "1     2017-11-10   320.670990   324.717987   294.541992   299.252991   \n",
              "2     2017-11-11   298.585999   319.453003   298.191986   314.681000   \n",
              "3     2017-11-12   314.690002   319.153015   298.513000   307.907990   \n",
              "4     2017-11-13   307.024994   328.415009   307.024994   316.716003   \n",
              "...          ...          ...          ...          ...          ...   \n",
              "1241  2021-04-03  2142.895996  2144.962402  2028.422485  2028.422485   \n",
              "1242  2021-04-04  2027.671265  2110.353516  2007.111816  2093.122803   \n",
              "1243  2021-04-05  2093.260742  2140.985352  2032.387695  2107.887207   \n",
              "1244  2021-04-06  2109.493164  2151.223389  2057.609131  2118.378906   \n",
              "1245  2021-04-07  2117.728516  2133.187500  1945.442139  1971.077271   \n",
              "\n",
              "        Adj Close       Volume  \n",
              "0      320.884003    893249984  \n",
              "1      299.252991    885985984  \n",
              "2      314.681000    842300992  \n",
              "3      307.907990   1613479936  \n",
              "4      316.716003   1041889984  \n",
              "...           ...          ...  \n",
              "1241  2028.422485  32011518871  \n",
              "1242  2093.122803  26006501902  \n",
              "1243  2107.887207  28889391170  \n",
              "1244  2118.378906  29222865881  \n",
              "1245  1971.077271  36116271935  \n",
              "\n",
              "[1246 rows x 7 columns]"
            ],
            "text/html": [
              "\n",
              "  <div id=\"df-1448bdc2-2d79-451c-be29-7bc2ef63b479\">\n",
              "    <div class=\"colab-df-container\">\n",
              "      <div>\n",
              "<style scoped>\n",
              "    .dataframe tbody tr th:only-of-type {\n",
              "        vertical-align: middle;\n",
              "    }\n",
              "\n",
              "    .dataframe tbody tr th {\n",
              "        vertical-align: top;\n",
              "    }\n",
              "\n",
              "    .dataframe thead th {\n",
              "        text-align: right;\n",
              "    }\n",
              "</style>\n",
              "<table border=\"1\" class=\"dataframe\">\n",
              "  <thead>\n",
              "    <tr style=\"text-align: right;\">\n",
              "      <th></th>\n",
              "      <th>Date</th>\n",
              "      <th>Open</th>\n",
              "      <th>High</th>\n",
              "      <th>Low</th>\n",
              "      <th>Close</th>\n",
              "      <th>Adj Close</th>\n",
              "      <th>Volume</th>\n",
              "    </tr>\n",
              "  </thead>\n",
              "  <tbody>\n",
              "    <tr>\n",
              "      <th>0</th>\n",
              "      <td>2017-11-09</td>\n",
              "      <td>308.644989</td>\n",
              "      <td>329.451996</td>\n",
              "      <td>307.056000</td>\n",
              "      <td>320.884003</td>\n",
              "      <td>320.884003</td>\n",
              "      <td>893249984</td>\n",
              "    </tr>\n",
              "    <tr>\n",
              "      <th>1</th>\n",
              "      <td>2017-11-10</td>\n",
              "      <td>320.670990</td>\n",
              "      <td>324.717987</td>\n",
              "      <td>294.541992</td>\n",
              "      <td>299.252991</td>\n",
              "      <td>299.252991</td>\n",
              "      <td>885985984</td>\n",
              "    </tr>\n",
              "    <tr>\n",
              "      <th>2</th>\n",
              "      <td>2017-11-11</td>\n",
              "      <td>298.585999</td>\n",
              "      <td>319.453003</td>\n",
              "      <td>298.191986</td>\n",
              "      <td>314.681000</td>\n",
              "      <td>314.681000</td>\n",
              "      <td>842300992</td>\n",
              "    </tr>\n",
              "    <tr>\n",
              "      <th>3</th>\n",
              "      <td>2017-11-12</td>\n",
              "      <td>314.690002</td>\n",
              "      <td>319.153015</td>\n",
              "      <td>298.513000</td>\n",
              "      <td>307.907990</td>\n",
              "      <td>307.907990</td>\n",
              "      <td>1613479936</td>\n",
              "    </tr>\n",
              "    <tr>\n",
              "      <th>4</th>\n",
              "      <td>2017-11-13</td>\n",
              "      <td>307.024994</td>\n",
              "      <td>328.415009</td>\n",
              "      <td>307.024994</td>\n",
              "      <td>316.716003</td>\n",
              "      <td>316.716003</td>\n",
              "      <td>1041889984</td>\n",
              "    </tr>\n",
              "    <tr>\n",
              "      <th>...</th>\n",
              "      <td>...</td>\n",
              "      <td>...</td>\n",
              "      <td>...</td>\n",
              "      <td>...</td>\n",
              "      <td>...</td>\n",
              "      <td>...</td>\n",
              "      <td>...</td>\n",
              "    </tr>\n",
              "    <tr>\n",
              "      <th>1241</th>\n",
              "      <td>2021-04-03</td>\n",
              "      <td>2142.895996</td>\n",
              "      <td>2144.962402</td>\n",
              "      <td>2028.422485</td>\n",
              "      <td>2028.422485</td>\n",
              "      <td>2028.422485</td>\n",
              "      <td>32011518871</td>\n",
              "    </tr>\n",
              "    <tr>\n",
              "      <th>1242</th>\n",
              "      <td>2021-04-04</td>\n",
              "      <td>2027.671265</td>\n",
              "      <td>2110.353516</td>\n",
              "      <td>2007.111816</td>\n",
              "      <td>2093.122803</td>\n",
              "      <td>2093.122803</td>\n",
              "      <td>26006501902</td>\n",
              "    </tr>\n",
              "    <tr>\n",
              "      <th>1243</th>\n",
              "      <td>2021-04-05</td>\n",
              "      <td>2093.260742</td>\n",
              "      <td>2140.985352</td>\n",
              "      <td>2032.387695</td>\n",
              "      <td>2107.887207</td>\n",
              "      <td>2107.887207</td>\n",
              "      <td>28889391170</td>\n",
              "    </tr>\n",
              "    <tr>\n",
              "      <th>1244</th>\n",
              "      <td>2021-04-06</td>\n",
              "      <td>2109.493164</td>\n",
              "      <td>2151.223389</td>\n",
              "      <td>2057.609131</td>\n",
              "      <td>2118.378906</td>\n",
              "      <td>2118.378906</td>\n",
              "      <td>29222865881</td>\n",
              "    </tr>\n",
              "    <tr>\n",
              "      <th>1245</th>\n",
              "      <td>2021-04-07</td>\n",
              "      <td>2117.728516</td>\n",
              "      <td>2133.187500</td>\n",
              "      <td>1945.442139</td>\n",
              "      <td>1971.077271</td>\n",
              "      <td>1971.077271</td>\n",
              "      <td>36116271935</td>\n",
              "    </tr>\n",
              "  </tbody>\n",
              "</table>\n",
              "<p>1246 rows × 7 columns</p>\n",
              "</div>\n",
              "      <button class=\"colab-df-convert\" onclick=\"convertToInteractive('df-1448bdc2-2d79-451c-be29-7bc2ef63b479')\"\n",
              "              title=\"Convert this dataframe to an interactive table.\"\n",
              "              style=\"display:none;\">\n",
              "        \n",
              "  <svg xmlns=\"http://www.w3.org/2000/svg\" height=\"24px\"viewBox=\"0 0 24 24\"\n",
              "       width=\"24px\">\n",
              "    <path d=\"M0 0h24v24H0V0z\" fill=\"none\"/>\n",
              "    <path d=\"M18.56 5.44l.94 2.06.94-2.06 2.06-.94-2.06-.94-.94-2.06-.94 2.06-2.06.94zm-11 1L8.5 8.5l.94-2.06 2.06-.94-2.06-.94L8.5 2.5l-.94 2.06-2.06.94zm10 10l.94 2.06.94-2.06 2.06-.94-2.06-.94-.94-2.06-.94 2.06-2.06.94z\"/><path d=\"M17.41 7.96l-1.37-1.37c-.4-.4-.92-.59-1.43-.59-.52 0-1.04.2-1.43.59L10.3 9.45l-7.72 7.72c-.78.78-.78 2.05 0 2.83L4 21.41c.39.39.9.59 1.41.59.51 0 1.02-.2 1.41-.59l7.78-7.78 2.81-2.81c.8-.78.8-2.07 0-2.86zM5.41 20L4 18.59l7.72-7.72 1.47 1.35L5.41 20z\"/>\n",
              "  </svg>\n",
              "      </button>\n",
              "      \n",
              "  <style>\n",
              "    .colab-df-container {\n",
              "      display:flex;\n",
              "      flex-wrap:wrap;\n",
              "      gap: 12px;\n",
              "    }\n",
              "\n",
              "    .colab-df-convert {\n",
              "      background-color: #E8F0FE;\n",
              "      border: none;\n",
              "      border-radius: 50%;\n",
              "      cursor: pointer;\n",
              "      display: none;\n",
              "      fill: #1967D2;\n",
              "      height: 32px;\n",
              "      padding: 0 0 0 0;\n",
              "      width: 32px;\n",
              "    }\n",
              "\n",
              "    .colab-df-convert:hover {\n",
              "      background-color: #E2EBFA;\n",
              "      box-shadow: 0px 1px 2px rgba(60, 64, 67, 0.3), 0px 1px 3px 1px rgba(60, 64, 67, 0.15);\n",
              "      fill: #174EA6;\n",
              "    }\n",
              "\n",
              "    [theme=dark] .colab-df-convert {\n",
              "      background-color: #3B4455;\n",
              "      fill: #D2E3FC;\n",
              "    }\n",
              "\n",
              "    [theme=dark] .colab-df-convert:hover {\n",
              "      background-color: #434B5C;\n",
              "      box-shadow: 0px 1px 3px 1px rgba(0, 0, 0, 0.15);\n",
              "      filter: drop-shadow(0px 1px 2px rgba(0, 0, 0, 0.3));\n",
              "      fill: #FFFFFF;\n",
              "    }\n",
              "  </style>\n",
              "\n",
              "      <script>\n",
              "        const buttonEl =\n",
              "          document.querySelector('#df-1448bdc2-2d79-451c-be29-7bc2ef63b479 button.colab-df-convert');\n",
              "        buttonEl.style.display =\n",
              "          google.colab.kernel.accessAllowed ? 'block' : 'none';\n",
              "\n",
              "        async function convertToInteractive(key) {\n",
              "          const element = document.querySelector('#df-1448bdc2-2d79-451c-be29-7bc2ef63b479');\n",
              "          const dataTable =\n",
              "            await google.colab.kernel.invokeFunction('convertToInteractive',\n",
              "                                                     [key], {});\n",
              "          if (!dataTable) return;\n",
              "\n",
              "          const docLinkHtml = 'Like what you see? Visit the ' +\n",
              "            '<a target=\"_blank\" href=https://colab.research.google.com/notebooks/data_table.ipynb>data table notebook</a>'\n",
              "            + ' to learn more about interactive tables.';\n",
              "          element.innerHTML = '';\n",
              "          dataTable['output_type'] = 'display_data';\n",
              "          await google.colab.output.renderOutput(dataTable, element);\n",
              "          const docLink = document.createElement('div');\n",
              "          docLink.innerHTML = docLinkHtml;\n",
              "          element.appendChild(docLink);\n",
              "        }\n",
              "      </script>\n",
              "    </div>\n",
              "  </div>\n",
              "  "
            ]
          },
          "metadata": {},
          "execution_count": 16
        }
      ]
    },
    {
      "cell_type": "code",
      "source": [
        "trainingData.iloc[854]\n",
        "#This day had the largest percentage drop during this selected time period"
      ],
      "metadata": {
        "colab": {
          "base_uri": "https://localhost:8080/"
        },
        "id": "AHMqUsIEj4L0",
        "outputId": "2d35ed30-0331-404a-cd64-6173bcad6a56"
      },
      "execution_count": null,
      "outputs": [
        {
          "output_type": "execute_result",
          "data": {
            "text/plain": [
              "Date          2020-03-12\n",
              "Open          194.738922\n",
              "High          195.147934\n",
              "Low           111.210709\n",
              "Close         112.347122\n",
              "Adj Close     112.347122\n",
              "Volume       22134741655\n",
              "Name: 854, dtype: object"
            ]
          },
          "metadata": {},
          "execution_count": 122
        }
      ]
    },
    {
      "cell_type": "code",
      "source": [
        "openPrices = trainingData[['Open']]\n",
        "openPrices.index = trainingData[['Date']]\n",
        "closePrices = trainingData[['Close']]\n",
        "closePrices.index = trainingData[['Date']]"
      ],
      "metadata": {
        "id": "E4OvLgxpgFW2"
      },
      "execution_count": 282,
      "outputs": []
    },
    {
      "cell_type": "code",
      "source": [
        "openPrices.plot()\n",
        "plt.setp(plt.axes().get_xticklabels(), rotation=30, horizontalalignment='right')\n",
        "closePrices.plot()\n",
        "plt.setp(plt.axes().get_xticklabels(), rotation=30, horizontalalignment='right')"
      ],
      "metadata": {
        "colab": {
          "base_uri": "https://localhost:8080/",
          "height": 981
        },
        "id": "jNOCIycUgd0P",
        "outputId": "9a63e8a6-98a3-426c-d92c-f10b52ba0c48"
      },
      "execution_count": 280,
      "outputs": [
        {
          "output_type": "stream",
          "name": "stderr",
          "text": [
            "/usr/local/lib/python3.7/dist-packages/ipykernel_launcher.py:2: MatplotlibDeprecationWarning: Adding an axes using the same arguments as a previous axes currently reuses the earlier instance.  In a future version, a new instance will always be created and returned.  Meanwhile, this warning can be suppressed, and the future behavior ensured, by passing a unique label to each axes instance.\n",
            "  \n",
            "/usr/local/lib/python3.7/dist-packages/ipykernel_launcher.py:4: MatplotlibDeprecationWarning: Adding an axes using the same arguments as a previous axes currently reuses the earlier instance.  In a future version, a new instance will always be created and returned.  Meanwhile, this warning can be suppressed, and the future behavior ensured, by passing a unique label to each axes instance.\n",
            "  after removing the cwd from sys.path.\n"
          ]
        },
        {
          "output_type": "execute_result",
          "data": {
            "text/plain": [
              "[None,\n",
              " None,\n",
              " None,\n",
              " None,\n",
              " None,\n",
              " None,\n",
              " None,\n",
              " None,\n",
              " None,\n",
              " None,\n",
              " None,\n",
              " None,\n",
              " None,\n",
              " None,\n",
              " None,\n",
              " None,\n",
              " None,\n",
              " None]"
            ]
          },
          "metadata": {},
          "execution_count": 280
        },
        {
          "output_type": "display_data",
          "data": {
            "text/plain": [
              "<Figure size 432x288 with 1 Axes>"
            ],
            "image/png": "[encoded data removed]"
          },
          "metadata": {
            "needs_background": "light"
          }
        },
        {
          "output_type": "display_data",
          "data": {
            "text/plain": [
              "<Figure size 432x288 with 1 Axes>"
            ],
            "image/png": "[encoded data removed]"
          },
          "metadata": {
            "needs_background": "light"
          }
        }
      ]
    },
    {
      "cell_type": "code",
      "source": [
        "#Parse CSV data\n",
        "#Get log return\n",
        "def getLogReturns(data):\n",
        "  logReturns = []\n",
        "  for i in data.index:\n",
        "    logReturns.append(math.log(data['Close'][i]) - math.log(data['Open'][i]))\n",
        "  return pd.Series(logReturns)\n",
        "\n",
        "#Get log range\n",
        "def getLogRanges(data):\n",
        "  logRanges = []\n",
        "  for i in data.index:\n",
        "    logRanges.append(math.log(data['High'][i]) - math.log(data['Low'][i]))\n",
        "  return pd.Series(logRanges)\n",
        "\n",
        "#Get log quadratic variation\n",
        "def getLogQuadraticVariations(logReturns, look_back = 10):\n",
        "  logQuadraticVariations = []\n",
        "  cumQuadraticVariations = 0\n",
        "  for i in range(10):\n",
        "    sqRet = logReturns[i] ** 2\n",
        "    cumQuadraticVariations += sqRet\n",
        "  logQV = math.log(cumQuadraticVariations)\n",
        "  logQuadraticVariations.append(logQV)\n",
        "  for i in range(10, len(logReturns)):\n",
        "    newLogQV = math.exp(logQV)\n",
        "    newLogQV -= logReturns[i - 10] ** 2\n",
        "    newLogQV += logReturns[i] ** 2\n",
        "    newLogQV = math.log(newLogQV)\n",
        "    logQuadraticVariations.append(newLogQV)\n",
        "    logQV = newLogQV\n",
        "  return logQuadraticVariations\n",
        "\n",
        "logRets = getLogReturns(trainingData)\n",
        "logRans = getLogRanges(trainingData)\n",
        "logQVs = getLogQuadraticVariations(logRets)\n",
        "\n",
        "testLogRets = getLogReturns(testData)\n",
        "testLogRans = getLogRanges(testData)\n",
        "testLogQVs = getLogQuadraticVariations(testLogRets)"
      ],
      "metadata": {
        "id": "TV6MGwDsBPvI"
      },
      "execution_count": null,
      "outputs": []
    },
    {
      "cell_type": "code",
      "source": [
        "\"\"\"\n",
        "Augmented Dickey-Fuller Test:\n",
        "Given a time series data, the augmented dickey-fuller test provides a check on whether the data is stationary or non-stationary.\n",
        "Stationary means the data does not depend on time, i.e. there are no seasonal variations, or trends over time\n",
        "The adfuller test produces a p-value:\n",
        "a p-value > 0.05 fails to reject the null hypothesis and is thus non-stationary\n",
        "a p-value <= 0.05 rejects the null hypothesis and is thus stationary\n",
        "The ADF statistic provides a measure of how likely the given data is to be a statistical fluke: the more negative, the less likely\n",
        "The Critical Values provide some ranges for the significance level of the ADF statistic\n",
        "e.g. an ADF statistic of -4 with critical values 1%: -5 and 5%: -3 means the significance level is between 1-5%, so the probability\n",
        "that the given data is a statistical fluke is between 1-5%\n",
        "\"\"\"\n",
        "\n",
        "def getAdFuller(data):\n",
        "  result = adfuller(data)\n",
        "  print('p-value: ', result[1])\n",
        "  print('ADF Statistic: ', result[0])\n",
        "  print('Critical Values:')\n",
        "  for key, val in result[4].items():\n",
        "    print(f'{key}: {val}')\n",
        "  print(\"\")\n",
        "\n",
        "getAdFuller(logRets)\n",
        "getAdFuller(logRans)\n",
        "getAdFuller(logQVs)"
      ],
      "metadata": {
        "colab": {
          "base_uri": "https://localhost:8080/"
        },
        "id": "bjhfglTO1QEj",
        "outputId": "ec95a18f-6d25-459e-8cb2-0d8d32ef16b0"
      },
      "execution_count": 226,
      "outputs": [
        {
          "output_type": "stream",
          "name": "stdout",
          "text": [
            "p-value:  0.0\n",
            "ADF Statistic:  -23.43996565930477\n",
            "Critical Values:\n",
            "1%: -3.4356175602072545\n",
            "5%: -2.8638661490437025\n",
            "10%: -2.5680084710921105\n",
            "\n",
            "p-value:  1.2828148543213315e-05\n",
            "ADF Statistic:  -5.1191446086876375\n",
            "Critical Values:\n",
            "1%: -3.4356819860439574\n",
            "5%: -2.863894574114006\n",
            "10%: -2.568023609111511\n",
            "\n",
            "p-value:  0.00016670796702767925\n",
            "ADF Statistic:  -4.539531307077029\n",
            "Critical Values:\n",
            "1%: -3.435739110194116\n",
            "5%: -2.863919777127088\n",
            "10%: -2.5680370312770515\n",
            "\n"
          ]
        }
      ]
    },
    {
      "cell_type": "code",
      "source": [
        "scaler = MinMaxScaler(feature_range=(0, 1))\n",
        "scaledLogRets = scaler.fit_transform(logRets.to_frame())\n",
        "scaledLogRans = scaler.fit_transform(logRans.to_frame())\n",
        "\n",
        "scaledTestLogRets = scaler.fit_transform(testLogRets.to_frame())\n",
        "scaledTestLogRans = scaler.fit_transform(testLogRans.to_frame())"
      ],
      "metadata": {
        "id": "6ZVtfx5aPs5x"
      },
      "execution_count": null,
      "outputs": []
    },
    {
      "cell_type": "code",
      "source": [
        "plt.plot(scaledLogRets)"
      ],
      "metadata": {
        "colab": {
          "base_uri": "https://localhost:8080/",
          "height": 282
        },
        "id": "ZdoeWPn9fwV_",
        "outputId": "db110e8a-421a-4c63-83e4-3df697d6832e"
      },
      "execution_count": null,
      "outputs": [
        {
          "output_type": "execute_result",
          "data": {
            "text/plain": [
              "[<matplotlib.lines.Line2D at 0x7fb686268610>]"
            ]
          },
          "metadata": {},
          "execution_count": 84
        },
        {
          "output_type": "display_data",
          "data": {
            "text/plain": [
              "<Figure size 432x288 with 1 Axes>"
            ],
            "image/png": "[encoded data removed]"
          },
          "metadata": {
            "needs_background": "light"
          }
        }
      ]
    },
    {
      "cell_type": "code",
      "source": [
        "plt.plot(scaledLogRans)"
      ],
      "metadata": {
        "colab": {
          "base_uri": "https://localhost:8080/",
          "height": 282
        },
        "id": "cB-KxJqQf1u0",
        "outputId": "57a74306-fe46-46fd-8447-eef945adab91"
      },
      "execution_count": null,
      "outputs": [
        {
          "output_type": "execute_result",
          "data": {
            "text/plain": [
              "[<matplotlib.lines.Line2D at 0x7fb68617a1d0>]"
            ]
          },
          "metadata": {},
          "execution_count": 85
        },
        {
          "output_type": "display_data",
          "data": {
            "text/plain": [
              "<Figure size 432x288 with 1 Axes>"
            ],
            "image/png": "[encoded data removed]"
          },
          "metadata": {
            "needs_background": "light"
          }
        }
      ]
    },
    {
      "cell_type": "code",
      "source": [
        "plt.plot(logQVs)"
      ],
      "metadata": {
        "colab": {
          "base_uri": "https://localhost:8080/",
          "height": 282
        },
        "id": "HoteAa4tf7wy",
        "outputId": "c76a1d5d-cbfc-428d-cf29-35e276818914"
      },
      "execution_count": null,
      "outputs": [
        {
          "output_type": "execute_result",
          "data": {
            "text/plain": [
              "[<matplotlib.lines.Line2D at 0x7fb686176210>]"
            ]
          },
          "metadata": {},
          "execution_count": 86
        },
        {
          "output_type": "display_data",
          "data": {
            "text/plain": [
              "<Figure size 432x288 with 1 Axes>"
            ],
            "image/png": "[encoded data removed]"
          },
          "metadata": {
            "needs_background": "light"
          }
        }
      ]
    },
    {
      "cell_type": "code",
      "source": [
        "#Courtesy of https://machinelearningmastery.com/time-series-prediction-lstm-recurrent-neural-networks-python-keras/\n",
        "def create_samples(rets, rans, look_back = 30):\n",
        "  dataX = []\n",
        "  for i in range(len(rets) - look_back - 1):\n",
        "    a = rets[i:(i+look_back), 0] + rans[i:(i+look_back), 0]\n",
        "    dataX.append(a)\n",
        "  return np.array(dataX)\n",
        "\n",
        "ins = create_samples(scaledLogRets, scaledLogRans)\n",
        "testIns = create_samples(scaledTestLogRets, scaledTestLogRans)"
      ],
      "metadata": {
        "id": "dsuJ7rDnK7Wb"
      },
      "execution_count": null,
      "outputs": []
    },
    {
      "cell_type": "code",
      "source": [
        "ins = ins.reshape(ins.shape[0], 1, ins.shape[1])\n",
        "outs = np.array(logQVs[22:])\n",
        "\n",
        "testIns = testIns.reshape(testIns.shape[0], 1, testIns.shape[1])\n",
        "testOuts = np.array(testLogQVs[22:])"
      ],
      "metadata": {
        "id": "Oh92GNZZch_n"
      },
      "execution_count": null,
      "outputs": []
    },
    {
      "cell_type": "code",
      "source": [
        "model = Sequential()\n",
        "model.add(LSTM(20, input_shape=(ins.shape[1], ins.shape[2])))\n",
        "model.add(Dropout(0.1, input_shape=(ins.shape[1], ins.shape[2])))\n",
        "model.add(Dense(10))\n",
        "model.add(Dropout(0.1, input_shape=(ins.shape[1], ins.shape[2])))\n",
        "model.add(Dense(1))\n",
        "model.compile(loss='mae', optimizer='adam')"
      ],
      "metadata": {
        "id": "p2mKGNsmfsqM"
      },
      "execution_count": null,
      "outputs": []
    },
    {
      "cell_type": "code",
      "source": [
        "history = model.fit(ins, outs, epochs=50, batch_size=30, validation_data=(testIns, testOuts), verbose=2, shuffle=False)"
      ],
      "metadata": {
        "colab": {
          "base_uri": "https://localhost:8080/"
        },
        "id": "2d35fo2xmYsh",
        "outputId": "caba5322-a694-435c-db27-47d70af54cf2"
      },
      "execution_count": null,
      "outputs": [
        {
          "output_type": "stream",
          "name": "stdout",
          "text": [
            "Epoch 1/50\n",
            "41/41 - 4s - loss: 2.8721 - val_loss: 1.5867 - 4s/epoch - 99ms/step\n",
            "Epoch 2/50\n",
            "41/41 - 0s - loss: 0.9541 - val_loss: 0.6496 - 156ms/epoch - 4ms/step\n",
            "Epoch 3/50\n",
            "41/41 - 0s - loss: 1.0616 - val_loss: 0.6482 - 157ms/epoch - 4ms/step\n",
            "Epoch 4/50\n",
            "41/41 - 0s - loss: 1.0418 - val_loss: 0.6455 - 152ms/epoch - 4ms/step\n",
            "Epoch 5/50\n",
            "41/41 - 0s - loss: 1.0165 - val_loss: 0.6446 - 144ms/epoch - 4ms/step\n",
            "Epoch 6/50\n",
            "41/41 - 0s - loss: 1.0071 - val_loss: 0.6364 - 146ms/epoch - 4ms/step\n",
            "Epoch 7/50\n",
            "41/41 - 0s - loss: 0.9897 - val_loss: 0.6220 - 169ms/epoch - 4ms/step\n",
            "Epoch 8/50\n",
            "41/41 - 0s - loss: 0.9884 - val_loss: 0.6168 - 200ms/epoch - 5ms/step\n",
            "Epoch 9/50\n",
            "41/41 - 0s - loss: 0.9888 - val_loss: 0.6405 - 141ms/epoch - 3ms/step\n",
            "Epoch 10/50\n",
            "41/41 - 0s - loss: 0.9940 - val_loss: 0.6131 - 143ms/epoch - 3ms/step\n",
            "Epoch 11/50\n",
            "41/41 - 0s - loss: 0.9748 - val_loss: 0.6061 - 142ms/epoch - 3ms/step\n",
            "Epoch 12/50\n",
            "41/41 - 0s - loss: 0.9786 - val_loss: 0.6066 - 146ms/epoch - 4ms/step\n",
            "Epoch 13/50\n",
            "41/41 - 0s - loss: 0.9803 - val_loss: 0.6058 - 145ms/epoch - 4ms/step\n",
            "Epoch 14/50\n",
            "41/41 - 0s - loss: 0.9306 - val_loss: 0.5997 - 144ms/epoch - 4ms/step\n",
            "Epoch 15/50\n",
            "41/41 - 0s - loss: 0.9603 - val_loss: 0.5979 - 151ms/epoch - 4ms/step\n",
            "Epoch 16/50\n",
            "41/41 - 0s - loss: 0.9586 - val_loss: 0.5977 - 151ms/epoch - 4ms/step\n",
            "Epoch 17/50\n",
            "41/41 - 0s - loss: 0.9638 - val_loss: 0.5947 - 144ms/epoch - 4ms/step\n",
            "Epoch 18/50\n",
            "41/41 - 0s - loss: 0.9611 - val_loss: 0.5918 - 187ms/epoch - 5ms/step\n",
            "Epoch 19/50\n",
            "41/41 - 0s - loss: 0.9780 - val_loss: 0.5903 - 139ms/epoch - 3ms/step\n",
            "Epoch 20/50\n",
            "41/41 - 0s - loss: 0.9212 - val_loss: 0.5887 - 142ms/epoch - 3ms/step\n",
            "Epoch 21/50\n",
            "41/41 - 0s - loss: 0.9254 - val_loss: 0.5863 - 155ms/epoch - 4ms/step\n",
            "Epoch 22/50\n",
            "41/41 - 0s - loss: 0.9333 - val_loss: 0.5862 - 153ms/epoch - 4ms/step\n",
            "Epoch 23/50\n",
            "41/41 - 0s - loss: 0.9212 - val_loss: 0.5863 - 143ms/epoch - 3ms/step\n",
            "Epoch 24/50\n",
            "41/41 - 0s - loss: 0.9342 - val_loss: 0.5849 - 150ms/epoch - 4ms/step\n",
            "Epoch 25/50\n",
            "41/41 - 0s - loss: 0.9349 - val_loss: 0.5857 - 149ms/epoch - 4ms/step\n",
            "Epoch 26/50\n",
            "41/41 - 0s - loss: 0.9155 - val_loss: 0.5815 - 147ms/epoch - 4ms/step\n",
            "Epoch 27/50\n",
            "41/41 - 0s - loss: 0.9322 - val_loss: 0.5781 - 149ms/epoch - 4ms/step\n",
            "Epoch 28/50\n",
            "41/41 - 0s - loss: 0.9056 - val_loss: 0.5848 - 162ms/epoch - 4ms/step\n",
            "Epoch 29/50\n",
            "41/41 - 0s - loss: 0.9103 - val_loss: 0.5801 - 149ms/epoch - 4ms/step\n",
            "Epoch 30/50\n",
            "41/41 - 0s - loss: 0.9181 - val_loss: 0.5738 - 147ms/epoch - 4ms/step\n",
            "Epoch 31/50\n",
            "41/41 - 0s - loss: 0.9301 - val_loss: 0.5762 - 142ms/epoch - 3ms/step\n",
            "Epoch 32/50\n",
            "41/41 - 0s - loss: 0.9145 - val_loss: 0.5734 - 149ms/epoch - 4ms/step\n",
            "Epoch 33/50\n",
            "41/41 - 0s - loss: 0.8870 - val_loss: 0.5893 - 151ms/epoch - 4ms/step\n",
            "Epoch 34/50\n",
            "41/41 - 0s - loss: 0.9141 - val_loss: 0.5772 - 185ms/epoch - 5ms/step\n",
            "Epoch 35/50\n",
            "41/41 - 0s - loss: 0.9154 - val_loss: 0.6029 - 157ms/epoch - 4ms/step\n",
            "Epoch 36/50\n",
            "41/41 - 0s - loss: 0.8992 - val_loss: 0.5892 - 139ms/epoch - 3ms/step\n",
            "Epoch 37/50\n",
            "41/41 - 0s - loss: 0.8965 - val_loss: 0.5860 - 184ms/epoch - 4ms/step\n",
            "Epoch 38/50\n",
            "41/41 - 0s - loss: 0.9006 - val_loss: 0.6001 - 142ms/epoch - 3ms/step\n",
            "Epoch 39/50\n",
            "41/41 - 0s - loss: 0.9088 - val_loss: 0.6016 - 146ms/epoch - 4ms/step\n",
            "Epoch 40/50\n",
            "41/41 - 0s - loss: 0.8888 - val_loss: 0.5777 - 143ms/epoch - 3ms/step\n",
            "Epoch 41/50\n",
            "41/41 - 0s - loss: 0.8883 - val_loss: 0.5842 - 156ms/epoch - 4ms/step\n",
            "Epoch 42/50\n",
            "41/41 - 0s - loss: 0.9023 - val_loss: 0.5739 - 141ms/epoch - 3ms/step\n",
            "Epoch 43/50\n",
            "41/41 - 0s - loss: 0.8807 - val_loss: 0.5786 - 183ms/epoch - 4ms/step\n",
            "Epoch 44/50\n",
            "41/41 - 0s - loss: 0.8699 - val_loss: 0.5898 - 147ms/epoch - 4ms/step\n",
            "Epoch 45/50\n",
            "41/41 - 0s - loss: 0.8825 - val_loss: 0.5894 - 148ms/epoch - 4ms/step\n",
            "Epoch 46/50\n",
            "41/41 - 0s - loss: 0.8725 - val_loss: 0.6108 - 150ms/epoch - 4ms/step\n",
            "Epoch 47/50\n",
            "41/41 - 0s - loss: 0.8525 - val_loss: 0.6003 - 155ms/epoch - 4ms/step\n",
            "Epoch 48/50\n",
            "41/41 - 0s - loss: 0.8736 - val_loss: 0.5694 - 182ms/epoch - 4ms/step\n",
            "Epoch 49/50\n",
            "41/41 - 0s - loss: 0.8502 - val_loss: 0.6131 - 146ms/epoch - 4ms/step\n",
            "Epoch 50/50\n",
            "41/41 - 0s - loss: 0.8808 - val_loss: 0.5790 - 147ms/epoch - 4ms/step\n"
          ]
        }
      ]
    },
    {
      "cell_type": "code",
      "source": [
        "plt.plot(history.history['loss'], label='train')\n",
        "plt.plot(history.history['val_loss'], label='test')\n",
        "plt.legend()\n",
        "plt.show()"
      ],
      "metadata": {
        "colab": {
          "base_uri": "https://localhost:8080/",
          "height": 265
        },
        "id": "37b8Z_bQm1EB",
        "outputId": "20484833-beff-4d6a-ecf1-5126d0462ecb"
      },
      "execution_count": 186,
      "outputs": [
        {
          "output_type": "display_data",
          "data": {
            "text/plain": [
              "<Figure size 432x288 with 1 Axes>"
            ],
            "image/png": "[encoded data removed]"
          },
          "metadata": {
            "needs_background": "light"
          }
        }
      ]
    },
    {
      "cell_type": "code",
      "source": [
        "outHat = model.predict(testIns)\n",
        "predictTestIns = testIns.reshape((testIns.shape[0], testIns.shape[2]))\n",
        "invOutHat = np.concatenate((outHat, predictTestIns[:, 1:]), axis=1)\n",
        "invOutHat = scaler.inverse_transform(invOutHat)\n",
        "invOutHat = invOutHat[:,0]\n",
        "\n",
        "predictTestOuts = testOuts.reshape((len(testOuts), 1))\n",
        "invTestOuts = np.concatenate((predictTestOuts, predictTestIns[:, 1:]), axis=1)\n",
        "invTestOuts = scaler.inverse_transform(invTestOuts)\n",
        "invTestOuts = invTestOuts[:,0]\n",
        "\n",
        "rmse = math.sqrt(mean_squared_error(invTestOuts, invOutHat))\n",
        "print(\"RMSE: \", rmse)\n",
        "\n",
        "nrmse = (rmse / (np.amax(invTestOuts) - np.amin(invTestOuts))) * 100\n",
        "print(\"Normalized RMSE: \", nrmse, \"%\")"
      ],
      "metadata": {
        "colab": {
          "base_uri": "https://localhost:8080/"
        },
        "id": "i087Dy1fqtsN",
        "outputId": "80bb4498-3612-4a8f-9568-15d0fa263bf2"
      },
      "execution_count": 215,
      "outputs": [
        {
          "output_type": "stream",
          "name": "stdout",
          "text": [
            "RMSE:  0.42043761557164544\n",
            "Normalized RMSE:  16.804846305426484 %\n"
          ]
        }
      ]
    },
    {
      "cell_type": "code",
      "source": [
        "plt.plot(invOutHat, label='prediction')\n",
        "plt.plot(invTestOuts, label='actual')\n",
        "plt.legend()"
      ],
      "metadata": {
        "colab": {
          "base_uri": "https://localhost:8080/",
          "height": 282
        },
        "id": "OKP43GEUtfv7",
        "outputId": "008df84d-9053-4b66-c37b-46f1e6c6e98e"
      },
      "execution_count": 197,
      "outputs": [
        {
          "output_type": "execute_result",
          "data": {
            "text/plain": [
              "<matplotlib.legend.Legend at 0x7fb60f9e2c10>"
            ]
          },
          "metadata": {},
          "execution_count": 197
        },
        {
          "output_type": "display_data",
          "data": {
            "text/plain": [
              "<Figure size 432x288 with 1 Axes>"
            ],
            "image/png": "[encoded data removed]"
          },
          "metadata": {
            "needs_background": "light"
          }
        }
      ]
    }
  ]
}